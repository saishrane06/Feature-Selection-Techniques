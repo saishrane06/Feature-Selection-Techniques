{
  "nbformat": 4,
  "nbformat_minor": 0,
  "metadata": {
    "colab": {
      "name": "Chi2 Statistical Analysis.ipynb",
      "provenance": [],
      "authorship_tag": "ABX9TyPT1i+Qnx70zakcVKa53ziX",
      "include_colab_link": true
    },
    "kernelspec": {
      "name": "python3",
      "display_name": "Python 3"
    },
    "language_info": {
      "name": "python"
    }
  },
  "cells": [
    {
      "cell_type": "markdown",
      "metadata": {
        "id": "view-in-github",
        "colab_type": "text"
      },
      "source": [
        "<a href=\"https://colab.research.google.com/github/saishrane06/Feature-Selection-Techniques/blob/main/Chi2_Statistical_Analysis.ipynb\" target=\"_parent\"><img src=\"https://colab.research.google.com/assets/colab-badge.svg\" alt=\"Open In Colab\"/></a>"
      ]
    },
    {
      "cell_type": "code",
      "execution_count": 1,
      "metadata": {
        "colab": {
          "base_uri": "https://localhost:8080/"
        },
        "id": "-j68lyn0vDgB",
        "outputId": "fce7fcd8-6438-4200-bcb3-f2341169c00e"
      },
      "outputs": [
        {
          "output_type": "stream",
          "name": "stdout",
          "text": [
            "Downloading lung-cancer-patients-mrna-microarray.zip to /content\n",
            " 99% 124M/125M [00:02<00:00, 57.7MB/s] \n",
            "100% 125M/125M [00:02<00:00, 45.3MB/s]\n"
          ]
        }
      ],
      "source": [
        "! mkdir ~/.kaggle\n",
        "! cp kaggle.json ~/.kaggle/\n",
        "! chmod 600 ~/.kaggle/kaggle.json\n",
        "! kaggle datasets download josemauricioneuro/lung-cancer-patients-mrna-microarray"
      ]
    },
    {
      "cell_type": "code",
      "source": [
        "! unzip lung-cancer-patients-mrna-microarray.zip"
      ],
      "metadata": {
        "colab": {
          "base_uri": "https://localhost:8080/"
        },
        "id": "jZkonv-KyzY8",
        "outputId": "916431eb-7174-4bf0-c87b-4805a9130ee2"
      },
      "execution_count": 2,
      "outputs": [
        {
          "output_type": "stream",
          "name": "stdout",
          "text": [
            "Archive:  lung-cancer-patients-mrna-microarray.zip\n",
            "  inflating: clean/complete_dataframe.csv  \n",
            "  inflating: raw/DCLungStudy_Clinical_Covariates_with_Hgrade.xls  \n",
            "  inflating: raw/DCLungStudy_Not_In_Study_Reasons.xls  \n",
            "  inflating: raw/DCLungStudy_dChip-Processed_microarray_data.xls  \n",
            "  inflating: raw/DClungStudy_Clinical_Covariate_Definitions.xls  \n"
          ]
        }
      ]
    },
    {
      "cell_type": "code",
      "source": [
        "import pandas as pd\n",
        "import numpy as np"
      ],
      "metadata": {
        "id": "uYmv9wYOy1Q2"
      },
      "execution_count": 3,
      "outputs": []
    },
    {
      "cell_type": "code",
      "source": [
        "lc_df = pd.read_csv(\"clean/complete_dataframe.csv\")\n",
        "lc_df.head()"
      ],
      "metadata": {
        "colab": {
          "base_uri": "https://localhost:8080/",
          "height": 527
        },
        "id": "-A9WReYhy22z",
        "outputId": "8fe2b958-1bdd-46b5-e65a-fdb4d2e7e82d"
      },
      "execution_count": 4,
      "outputs": [
        {
          "output_type": "stream",
          "name": "stderr",
          "text": [
            "/usr/local/lib/python3.7/dist-packages/IPython/core/interactiveshell.py:2882: DtypeWarning: Columns (22309) have mixed types.Specify dtype option on import or set low_memory=False.\n",
            "  exec(code_obj, self.user_global_ns, self.user_ns)\n"
          ]
        },
        {
          "output_type": "execute_result",
          "data": {
            "text/plain": [
              "      Unnamed: 0  1007_s_at   1053_at    117_at    121_at  1255_g_at  \\\n",
              "0  NCI_U133A_93L  10.937022  6.105887  6.657732  8.543040   4.088473   \n",
              "1  NCI_U133A_70L   9.667748  6.203607  7.444259  8.800833   4.460766   \n",
              "2  NCI_U133A_87L  10.083438  6.416165  7.145344  8.625512   4.135750   \n",
              "3  NCI_U133A_64L  10.394160  6.307711  7.290440  8.761087   4.112526   \n",
              "4  NCI_U133A_99L  10.890421  6.307370  6.835464  8.524622   4.200539   \n",
              "\n",
              "    1294_at   1316_at   1320_at  1405_i_at  ...  \\\n",
              "0  8.208775  5.248811  5.053609   7.042420  ...   \n",
              "1  7.960886  5.133321  4.940906   7.618997  ...   \n",
              "2  8.499000  5.134877  4.836854   7.089821  ...   \n",
              "3  8.463786  5.476750  4.998902   7.725870  ...   \n",
              "4  7.584603  5.352621  4.941038   5.878343  ...   \n",
              "\n",
              "                      SURGICAL_MARGINS              PATHOLOGIC_N_STAGE  \\\n",
              "0  ALL MARGINS PATHOLOGICALLY NEGATIVE  N0, ACCORDING TO AJCC CRITERIA   \n",
              "1  ALL MARGINS PATHOLOGICALLY NEGATIVE  N1, ACCORDING TO AJCC CRITERIA   \n",
              "2  ALL MARGINS PATHOLOGICALLY NEGATIVE  N0, ACCORDING TO AJCC CRITERIA   \n",
              "3  ALL MARGINS PATHOLOGICALLY NEGATIVE  N0, ACCORDING TO AJCC CRITERIA   \n",
              "4  ALL MARGINS PATHOLOGICALLY NEGATIVE  N0, ACCORDING TO AJCC CRITERIA   \n",
              "\n",
              "               PATHOLOGIC_T_STAGE  MEDIAN_INTENSITY_UNNORMALIZED  \\\n",
              "0  T2, ACCORDING TO AJCC CRITERIA                          193.0   \n",
              "1  T2, ACCORDING TO AJCC CRITERIA                          192.0   \n",
              "2  T1, ACCORDING TO AJCC CRITERIA                          192.0   \n",
              "3  T2, ACCORDING TO AJCC CRITERIA                          192.0   \n",
              "4  T2, ACCORDING TO AJCC CRITERIA                          193.0   \n",
              "\n",
              "   PCT_ARRAY_OUTLIER  PCT_SINGLE_OUTLIER  WARNING  LABORATORY_BATCH  \\\n",
              "0              2.643               0.148      NaN               NaN   \n",
              "1              1.450               0.184      NaN               NaN   \n",
              "2              1.634               0.142      NaN               NaN   \n",
              "3              2.850               0.350      NaN               NaN   \n",
              "4              3.666               0.244      NaN               NaN   \n",
              "\n",
              "           Histologic grade  High_risk  \n",
              "0  Moderate Differentiation        1.0  \n",
              "1     POORLY DIFFERENTIATED        0.0  \n",
              "2       WELL DIFFERENTIATED        0.0  \n",
              "3     POORLY DIFFERENTIATED        0.0  \n",
              "4     POORLY DIFFERENTIATED        0.0  \n",
              "\n",
              "[5 rows x 22313 columns]"
            ],
            "text/html": [
              "\n",
              "  <div id=\"df-ef7c101d-83dc-470f-93d3-e1d501016602\">\n",
              "    <div class=\"colab-df-container\">\n",
              "      <div>\n",
              "<style scoped>\n",
              "    .dataframe tbody tr th:only-of-type {\n",
              "        vertical-align: middle;\n",
              "    }\n",
              "\n",
              "    .dataframe tbody tr th {\n",
              "        vertical-align: top;\n",
              "    }\n",
              "\n",
              "    .dataframe thead th {\n",
              "        text-align: right;\n",
              "    }\n",
              "</style>\n",
              "<table border=\"1\" class=\"dataframe\">\n",
              "  <thead>\n",
              "    <tr style=\"text-align: right;\">\n",
              "      <th></th>\n",
              "      <th>Unnamed: 0</th>\n",
              "      <th>1007_s_at</th>\n",
              "      <th>1053_at</th>\n",
              "      <th>117_at</th>\n",
              "      <th>121_at</th>\n",
              "      <th>1255_g_at</th>\n",
              "      <th>1294_at</th>\n",
              "      <th>1316_at</th>\n",
              "      <th>1320_at</th>\n",
              "      <th>1405_i_at</th>\n",
              "      <th>...</th>\n",
              "      <th>SURGICAL_MARGINS</th>\n",
              "      <th>PATHOLOGIC_N_STAGE</th>\n",
              "      <th>PATHOLOGIC_T_STAGE</th>\n",
              "      <th>MEDIAN_INTENSITY_UNNORMALIZED</th>\n",
              "      <th>PCT_ARRAY_OUTLIER</th>\n",
              "      <th>PCT_SINGLE_OUTLIER</th>\n",
              "      <th>WARNING</th>\n",
              "      <th>LABORATORY_BATCH</th>\n",
              "      <th>Histologic grade</th>\n",
              "      <th>High_risk</th>\n",
              "    </tr>\n",
              "  </thead>\n",
              "  <tbody>\n",
              "    <tr>\n",
              "      <th>0</th>\n",
              "      <td>NCI_U133A_93L</td>\n",
              "      <td>10.937022</td>\n",
              "      <td>6.105887</td>\n",
              "      <td>6.657732</td>\n",
              "      <td>8.543040</td>\n",
              "      <td>4.088473</td>\n",
              "      <td>8.208775</td>\n",
              "      <td>5.248811</td>\n",
              "      <td>5.053609</td>\n",
              "      <td>7.042420</td>\n",
              "      <td>...</td>\n",
              "      <td>ALL MARGINS PATHOLOGICALLY NEGATIVE</td>\n",
              "      <td>N0, ACCORDING TO AJCC CRITERIA</td>\n",
              "      <td>T2, ACCORDING TO AJCC CRITERIA</td>\n",
              "      <td>193.0</td>\n",
              "      <td>2.643</td>\n",
              "      <td>0.148</td>\n",
              "      <td>NaN</td>\n",
              "      <td>NaN</td>\n",
              "      <td>Moderate Differentiation</td>\n",
              "      <td>1.0</td>\n",
              "    </tr>\n",
              "    <tr>\n",
              "      <th>1</th>\n",
              "      <td>NCI_U133A_70L</td>\n",
              "      <td>9.667748</td>\n",
              "      <td>6.203607</td>\n",
              "      <td>7.444259</td>\n",
              "      <td>8.800833</td>\n",
              "      <td>4.460766</td>\n",
              "      <td>7.960886</td>\n",
              "      <td>5.133321</td>\n",
              "      <td>4.940906</td>\n",
              "      <td>7.618997</td>\n",
              "      <td>...</td>\n",
              "      <td>ALL MARGINS PATHOLOGICALLY NEGATIVE</td>\n",
              "      <td>N1, ACCORDING TO AJCC CRITERIA</td>\n",
              "      <td>T2, ACCORDING TO AJCC CRITERIA</td>\n",
              "      <td>192.0</td>\n",
              "      <td>1.450</td>\n",
              "      <td>0.184</td>\n",
              "      <td>NaN</td>\n",
              "      <td>NaN</td>\n",
              "      <td>POORLY DIFFERENTIATED</td>\n",
              "      <td>0.0</td>\n",
              "    </tr>\n",
              "    <tr>\n",
              "      <th>2</th>\n",
              "      <td>NCI_U133A_87L</td>\n",
              "      <td>10.083438</td>\n",
              "      <td>6.416165</td>\n",
              "      <td>7.145344</td>\n",
              "      <td>8.625512</td>\n",
              "      <td>4.135750</td>\n",
              "      <td>8.499000</td>\n",
              "      <td>5.134877</td>\n",
              "      <td>4.836854</td>\n",
              "      <td>7.089821</td>\n",
              "      <td>...</td>\n",
              "      <td>ALL MARGINS PATHOLOGICALLY NEGATIVE</td>\n",
              "      <td>N0, ACCORDING TO AJCC CRITERIA</td>\n",
              "      <td>T1, ACCORDING TO AJCC CRITERIA</td>\n",
              "      <td>192.0</td>\n",
              "      <td>1.634</td>\n",
              "      <td>0.142</td>\n",
              "      <td>NaN</td>\n",
              "      <td>NaN</td>\n",
              "      <td>WELL DIFFERENTIATED</td>\n",
              "      <td>0.0</td>\n",
              "    </tr>\n",
              "    <tr>\n",
              "      <th>3</th>\n",
              "      <td>NCI_U133A_64L</td>\n",
              "      <td>10.394160</td>\n",
              "      <td>6.307711</td>\n",
              "      <td>7.290440</td>\n",
              "      <td>8.761087</td>\n",
              "      <td>4.112526</td>\n",
              "      <td>8.463786</td>\n",
              "      <td>5.476750</td>\n",
              "      <td>4.998902</td>\n",
              "      <td>7.725870</td>\n",
              "      <td>...</td>\n",
              "      <td>ALL MARGINS PATHOLOGICALLY NEGATIVE</td>\n",
              "      <td>N0, ACCORDING TO AJCC CRITERIA</td>\n",
              "      <td>T2, ACCORDING TO AJCC CRITERIA</td>\n",
              "      <td>192.0</td>\n",
              "      <td>2.850</td>\n",
              "      <td>0.350</td>\n",
              "      <td>NaN</td>\n",
              "      <td>NaN</td>\n",
              "      <td>POORLY DIFFERENTIATED</td>\n",
              "      <td>0.0</td>\n",
              "    </tr>\n",
              "    <tr>\n",
              "      <th>4</th>\n",
              "      <td>NCI_U133A_99L</td>\n",
              "      <td>10.890421</td>\n",
              "      <td>6.307370</td>\n",
              "      <td>6.835464</td>\n",
              "      <td>8.524622</td>\n",
              "      <td>4.200539</td>\n",
              "      <td>7.584603</td>\n",
              "      <td>5.352621</td>\n",
              "      <td>4.941038</td>\n",
              "      <td>5.878343</td>\n",
              "      <td>...</td>\n",
              "      <td>ALL MARGINS PATHOLOGICALLY NEGATIVE</td>\n",
              "      <td>N0, ACCORDING TO AJCC CRITERIA</td>\n",
              "      <td>T2, ACCORDING TO AJCC CRITERIA</td>\n",
              "      <td>193.0</td>\n",
              "      <td>3.666</td>\n",
              "      <td>0.244</td>\n",
              "      <td>NaN</td>\n",
              "      <td>NaN</td>\n",
              "      <td>POORLY DIFFERENTIATED</td>\n",
              "      <td>0.0</td>\n",
              "    </tr>\n",
              "  </tbody>\n",
              "</table>\n",
              "<p>5 rows × 22313 columns</p>\n",
              "</div>\n",
              "      <button class=\"colab-df-convert\" onclick=\"convertToInteractive('df-ef7c101d-83dc-470f-93d3-e1d501016602')\"\n",
              "              title=\"Convert this dataframe to an interactive table.\"\n",
              "              style=\"display:none;\">\n",
              "        \n",
              "  <svg xmlns=\"http://www.w3.org/2000/svg\" height=\"24px\"viewBox=\"0 0 24 24\"\n",
              "       width=\"24px\">\n",
              "    <path d=\"M0 0h24v24H0V0z\" fill=\"none\"/>\n",
              "    <path d=\"M18.56 5.44l.94 2.06.94-2.06 2.06-.94-2.06-.94-.94-2.06-.94 2.06-2.06.94zm-11 1L8.5 8.5l.94-2.06 2.06-.94-2.06-.94L8.5 2.5l-.94 2.06-2.06.94zm10 10l.94 2.06.94-2.06 2.06-.94-2.06-.94-.94-2.06-.94 2.06-2.06.94z\"/><path d=\"M17.41 7.96l-1.37-1.37c-.4-.4-.92-.59-1.43-.59-.52 0-1.04.2-1.43.59L10.3 9.45l-7.72 7.72c-.78.78-.78 2.05 0 2.83L4 21.41c.39.39.9.59 1.41.59.51 0 1.02-.2 1.41-.59l7.78-7.78 2.81-2.81c.8-.78.8-2.07 0-2.86zM5.41 20L4 18.59l7.72-7.72 1.47 1.35L5.41 20z\"/>\n",
              "  </svg>\n",
              "      </button>\n",
              "      \n",
              "  <style>\n",
              "    .colab-df-container {\n",
              "      display:flex;\n",
              "      flex-wrap:wrap;\n",
              "      gap: 12px;\n",
              "    }\n",
              "\n",
              "    .colab-df-convert {\n",
              "      background-color: #E8F0FE;\n",
              "      border: none;\n",
              "      border-radius: 50%;\n",
              "      cursor: pointer;\n",
              "      display: none;\n",
              "      fill: #1967D2;\n",
              "      height: 32px;\n",
              "      padding: 0 0 0 0;\n",
              "      width: 32px;\n",
              "    }\n",
              "\n",
              "    .colab-df-convert:hover {\n",
              "      background-color: #E2EBFA;\n",
              "      box-shadow: 0px 1px 2px rgba(60, 64, 67, 0.3), 0px 1px 3px 1px rgba(60, 64, 67, 0.15);\n",
              "      fill: #174EA6;\n",
              "    }\n",
              "\n",
              "    [theme=dark] .colab-df-convert {\n",
              "      background-color: #3B4455;\n",
              "      fill: #D2E3FC;\n",
              "    }\n",
              "\n",
              "    [theme=dark] .colab-df-convert:hover {\n",
              "      background-color: #434B5C;\n",
              "      box-shadow: 0px 1px 3px 1px rgba(0, 0, 0, 0.15);\n",
              "      filter: drop-shadow(0px 1px 2px rgba(0, 0, 0, 0.3));\n",
              "      fill: #FFFFFF;\n",
              "    }\n",
              "  </style>\n",
              "\n",
              "      <script>\n",
              "        const buttonEl =\n",
              "          document.querySelector('#df-ef7c101d-83dc-470f-93d3-e1d501016602 button.colab-df-convert');\n",
              "        buttonEl.style.display =\n",
              "          google.colab.kernel.accessAllowed ? 'block' : 'none';\n",
              "\n",
              "        async function convertToInteractive(key) {\n",
              "          const element = document.querySelector('#df-ef7c101d-83dc-470f-93d3-e1d501016602');\n",
              "          const dataTable =\n",
              "            await google.colab.kernel.invokeFunction('convertToInteractive',\n",
              "                                                     [key], {});\n",
              "          if (!dataTable) return;\n",
              "\n",
              "          const docLinkHtml = 'Like what you see? Visit the ' +\n",
              "            '<a target=\"_blank\" href=https://colab.research.google.com/notebooks/data_table.ipynb>data table notebook</a>'\n",
              "            + ' to learn more about interactive tables.';\n",
              "          element.innerHTML = '';\n",
              "          dataTable['output_type'] = 'display_data';\n",
              "          await google.colab.output.renderOutput(dataTable, element);\n",
              "          const docLink = document.createElement('div');\n",
              "          docLink.innerHTML = docLinkHtml;\n",
              "          element.appendChild(docLink);\n",
              "        }\n",
              "      </script>\n",
              "    </div>\n",
              "  </div>\n",
              "  "
            ]
          },
          "metadata": {},
          "execution_count": 4
        }
      ]
    },
    {
      "cell_type": "code",
      "source": [
        "lc_df.info()"
      ],
      "metadata": {
        "colab": {
          "base_uri": "https://localhost:8080/"
        },
        "id": "Kl5PnfHey6FD",
        "outputId": "48f1c0e2-4ce8-418a-f10f-5dfcedcc66f0"
      },
      "execution_count": 5,
      "outputs": [
        {
          "output_type": "stream",
          "name": "stdout",
          "text": [
            "<class 'pandas.core.frame.DataFrame'>\n",
            "RangeIndex: 442 entries, 0 to 441\n",
            "Columns: 22313 entries, Unnamed: 0 to High_risk\n",
            "dtypes: float64(22293), int64(3), object(17)\n",
            "memory usage: 75.2+ MB\n"
          ]
        }
      ]
    },
    {
      "cell_type": "code",
      "source": [
        "for i in lc_df.columns:\n",
        "  if lc_df[i].dtypes == 'O':\n",
        "    print(i)\n",
        "    print(\"\\n\")\n",
        "    print(lc_df[i].unique())\n",
        "    print(\"\\n\")"
      ],
      "metadata": {
        "colab": {
          "base_uri": "https://localhost:8080/"
        },
        "id": "iYESlimry_ST",
        "outputId": "0d90982c-8c04-4651-e0ea-acc7494a012b"
      },
      "execution_count": 6,
      "outputs": [
        {
          "output_type": "stream",
          "name": "stdout",
          "text": [
            "Unnamed: 0\n",
            "\n",
            "\n",
            "['NCI_U133A_93L' 'NCI_U133A_70L' 'NCI_U133A_87L' 'NCI_U133A_64L'\n",
            " 'NCI_U133A_99L' 'CL20041119183AA' 'NCI_Lung270_U133A' 'Moff1864H'\n",
            " 'NCI_Lung75_U133A' 'NCI_Lung23_U133A' 'Moff0928E' 'NCI_Lung91_U133A'\n",
            " 'CL2005060333AA' 'NCI_U133A_23L' 'NCI_U133A_25L' 'NCI_U133A_26L'\n",
            " 'NCI_U133A_38L' 'NCI_U133A_68L' 'NCI_U133A_32L' 'NCI_U133A_31L'\n",
            " 'NCI_Lung44_U133A' 'NCI_U133A_10L' 'NCI_Lung99_U133A' 'CL20041119184AA'\n",
            " 'NCI_Lung247_U133A' 'NCI_Lung203_U133A' 'NCI_Lung19_U133A'\n",
            " 'NCI_Lung208_U133A' 'Moff1487F' 'CL2005060334AA' 'NCI_Lung259_U133A'\n",
            " 'Moff3730B' 'Moff2603I' 'Moff2333J' 'Moff2690H' 'NCI_Lung14_U133A'\n",
            " 'Moff3401F' 'NCI_Lung65_U133A' 'NCI_U133A_46L' 'NCI_U133A_9L' 'Moff3053B'\n",
            " 'Moff0978B' 'Moff4112G' 'NCI_U133A_52L' 'Moff0711B' 'Moff1835I'\n",
            " 'CL2004111045AA' 'NCI_Lung80_U133A' 'Moff1576F' 'Moff2955B'\n",
            " 'NCI_Lung281_U133' 'CL2005060344AA' 'NCI_Lung296_U133' 'NCI_Lung46_U133A'\n",
            " 'NCI_U133A_8L' 'NCI_Lung212_U133A' 'NCI_Lung67_U133A' 'NCI_Lung16_U133A'\n",
            " 'NCI_Lung85_U133A' 'NCI_Lung20_U133A' 'CL20041110110AA' 'CL2004111041AA'\n",
            " 'NCI_Lung207_U133A' 'Moff0291A' 'NCI_Lung272_U133A' 'CL2005060349AA'\n",
            " 'CL2005060353AA' 'NCI_Lung96_U133A' 'NCI_U133A_27L' 'NCI_U133A_59L'\n",
            " 'NCI_Lung239_U133A' 'NCI_Lung289_U133' 'NCI_Lung93_U133A'\n",
            " 'NCI_Lung263_U133A' 'NCI_Lung49_U133A' 'NCI_U133A_41L' 'NCI_U133A_3L'\n",
            " 'NCI_Lung61_U133A' 'NCI_U133A_98L' 'CL2004111022AA' 'Moff2310K'\n",
            " 'NCI_U133A_2L' 'Moff2072G' 'CL2004111048AA' 'NCI_U133A_100L'\n",
            " 'NCI_U133A_55L' 'Moff2886F' 'NCI_Lung298_U133' 'CL20041110103AA'\n",
            " 'CL20041110108AA' 'Moff2325E' 'CL20041116126AA' 'NCI_Lung269_U133A'\n",
            " 'NCI_Lung77_U133A' 'NCI_Lung53_U133A' 'NCI_Lung201_U133A' 'NCI_U133A_77L'\n",
            " 'CL2005060346AA' 'NCI_Lung82_U133A' 'CL2005060340AA' 'NCI_U133A_63L'\n",
            " 'NCI_U133A_80L' 'NCI_Lung283_U133' 'NCI_Lung33_U133A' 'NCI_Lung249_U133A'\n",
            " 'NCI_Lung294_U133' 'CL20041116136AA' 'NCI_Lung26_U133A' 'CL20041119192AA'\n",
            " 'NCI_Lung237_U133A' 'Moff1473F' 'NCI_Lung312_U133' 'NCI_U133A_58L'\n",
            " 'NCI_Lung22_U133A' 'Moff2362A' 'NCI_Lung59_U133A' 'NCI_Lung100_U133A'\n",
            " 'Moff3298E' 'Moff1300F' 'NCI_Lung69_U133A' 'NCI_Lung18_U133A'\n",
            " 'NCI_Lung202_U133A' 'NCI_U133A_40L' 'NCI_Lung246_U133A' 'NCI_U133A_54L'\n",
            " 'NCI_Lung209_U133A' 'NCI_Lung314_U133A' 'CL2005060356AA' 'Moff2517G1'\n",
            " 'NCI_Lung310_U133' 'NCI_Lung228_U133A' 'CL20041116134AA'\n",
            " 'CL20041110109AA' 'CL20041116127AA' 'CL2004111017AA' 'CL2005060337AA'\n",
            " 'CL20041110102AA' 'NCI_Lung98_U133A' 'NCI_Lung45_U133A' 'CL2005060350AA'\n",
            " 'CL2005060339AA' 'NCI_Lung47_U133A' 'NCI_U133A_20L' 'NCI_U133A_107L'\n",
            " 'NCI_U133A_15L' 'NCI_U133A_16L' 'NCI_U133A_13L' 'NCI_Lung215_U133A'\n",
            " 'NCI_U133A_34L' 'NCI_Lung15_U133A' 'CL2005060360AA' 'Moff2497D'\n",
            " 'Moff3009D' 'NCI_Lung267_U133A' 'CL2005060341AA' 'NCI_U133A_76L'\n",
            " 'NCI_U133A_95L' 'Moff1817G1' 'Moff2472B' 'NCI_Lung72_U133A'\n",
            " 'NCI_U133A_62L' 'NCI_U133A_81L' 'CL20041119194AA' 'CL2005060345AA'\n",
            " 'NCI_Lung79_U133A' 'CL20041110111AA' 'NCI_Lung28_U133A'\n",
            " 'NCI_Lung231_U133A' 'NCI_Lung3_U133A' 'NCI_Lung97_U133A' 'NCI_U133A_92L'\n",
            " 'NCI_Lung17_U133A' 'NCI_U133A_71L' 'NCI_Lung21_U133A' 'Moff1400H'\n",
            " 'CL20041110104AA' 'CL2004110909AA' 'NCI_Lung206_U133A' 'NCI_U133A_86L'\n",
            " 'NCI_U133A_65L' 'Moff2658C' 'Moff2629F' 'Moff3510G' 'NCI_U133A_102L'\n",
            " 'NCI_U133A_39L' 'NCI_Lung95_U133A' 'CL2005060355AA' 'NCI_U133A_69L'\n",
            " 'NCI_U133A_47L' 'Moff1477G' 'NCI_U133A_1L' 'NCI_Lung235_U133A'\n",
            " 'CL2004111044AA' 'CL2005060328AA' 'NCI_Lung306_U133' 'NCI_Lung300_U133'\n",
            " 'NCI_Lung293_U133' 'NCI_Lung48_U133A' 'NCI_U133A_53L' 'Moff2401B'\n",
            " 'CL2004111013AA' 'CL20041119185AA' 'Moff1903E' 'Moff1343G'\n",
            " 'NCI_Lung307_U133' 'NCI_U133A_17L' 'CL2005060326AA' 'Moff2199G'\n",
            " 'NCI_Lung304_U133' 'NCI_Lung291_U133' 'NCI_Lung305_U133' 'CL2005060338AA'\n",
            " 'Moff3274K' 'CL20041119182AA' 'NCI_Lung70_U133A' 'NCI_Lung34_U133A'\n",
            " 'NCI_Lung219_U133A' 'NCI_U133A_56L' 'NCI_Lung271_U133A' 'NCI_U133A_42L'\n",
            " 'NCI_U133A_29L' 'NCI_Lung86_U133A' 'NCI_Lung311_U133' 'Moff0683H'\n",
            " 'NCI_Lung7_U133A' 'NCI_Lung222_U133A' 'NCI_U133A_97L' 'CL2004111010AA'\n",
            " 'NCI_Lung299_U133' 'NCI_U133A_106L' 'NCI_Lung280_U133A'\n",
            " 'NCI_Lung64_U133A' 'NCI_Lung54_U133A' 'CL20041119187AA'\n",
            " 'NCI_Lung62_U133A' 'Moff2352G' 'NCI_Lung40_U133A' 'NCI_Lung32_U133A'\n",
            " 'NCI_Lung90_U133A' 'Moff1276H' 'Moff2663F' 'NCI_U133A_7L' 'Moff1940G'\n",
            " 'CL20041116112AA' 'CL20041119181AA' 'NCI_U133A_5L' 'CL2004111043AA'\n",
            " 'NCI_U133A_18L' 'NCI_U133A_83L' 'Moff3003G' 'NCI_U133A_60L' 'Moff4217B'\n",
            " 'NCI_Lung258_U133A' 'NCI_U133A_74L' 'NCI_U133A_94L_Rep' 'CL2005060343AA'\n",
            " 'Moff0770K' 'Moff0936G' 'NCI_Lung319_U133A' 'NCI_Lung52_U133A'\n",
            " 'NCI_Lung81_U133A' 'NCI_U133A_33L' 'NCI_U133A_35L' 'NCI_U133A_14L'\n",
            " 'NCI_Lung74_U133A' 'NCI_Lung288_U133' 'CL20041116114AA'\n",
            " 'NCI_Lung25_U133A' 'NCI_U133A_78L' 'NCI_U133A_22L' 'NCI_U133A_21L'\n",
            " 'Moff1514K' 'NCI_Lung56_U133A' 'CL2004111038AA' 'NCI_Lung39_U133A'\n",
            " 'CL2005060342AA' 'CL2005060336AA' 'NCI_Lung274_U133A' 'NCI_Lung13_U133A'\n",
            " 'NCI_U133A_88L' 'CL20041119167AA' 'NCI_Lung8_U133A' 'Moff3191I'\n",
            " 'Moff0130D' 'CL2004111040AA' 'NCI_Lung89_U133A' 'NCI_Lung76_U133A'\n",
            " 'NCI_Lung204_U133A' 'NCI_U133A_19L' 'NCI_U133A_101L' 'NCI_Lung210_U133A'\n",
            " 'Moff2219F' 'NCI_Lung92_U133A' 'NCI_Lung36_U133A' 'CL20041110107AA'\n",
            " 'Moff2634G' 'NCI_Lung320_U133A' 'NCI_U133A_67L' 'NCI_U133A_84L'\n",
            " 'NCI_Lung268_U133A' 'CL2005060327AA' 'NCI_Lung5_U133A' 'NCI_Lung11_U133A'\n",
            " 'NCI_Lung27_U133A' 'Moff0184A' 'NCI_U133A_73L' 'NCI_U133A_90L'\n",
            " 'NCI_Lung290_U133' 'NCI_Lung60_U133A' 'NCI_Lung238_U133A'\n",
            " 'NCI_Lung66_U133A' 'Moff2550F' 'CL2005060357AA' 'NCI_U133A_49L'\n",
            " 'Moff2186B' 'CL2004111018AA' 'NCI_Lung41_U133A' 'NCI_Lung43_U133A'\n",
            " 'NCI_Lung220_U133A' 'NCI_Lung84_U133A' 'NCI_U133A_51L' 'CL2004111097AA'\n",
            " 'NCI_Lung213_U133A' 'NCI_Lung276_U133A' 'NCI_Lung292_U133' 'Moff0298B'\n",
            " 'CL20041119190AA' 'NCI_U133A_45L' 'NCI_U133A_4L' 'Moff2996G'\n",
            " 'NCI_Lung227_U133A' 'CL2004111098AA' 'NCI_Lung286_U133' 'NCI_U133A_89L'\n",
            " 'NCI_U133A_12L' 'NCI_U133A_11L' 'NCI_U133A_30L' 'NCI_U133A_24L'\n",
            " 'NCI_U133A_37L_Rep' 'NCI_Lung224_U133A' 'Moff1888E' 'NCI_Lung218_U133A'\n",
            " 'Moff2373H' 'NCI_Lung29_U133A' 'NCI_Lung78_U133A' 'NCI_Lung42_U133A'\n",
            " 'CL20041119191AA' 'NCI_U133A_6L' 'NCI_Lung240_U133A' 'NCI_U133A_66L'\n",
            " 'NCI_U133A_85L' 'CL2004111002AA' 'NCI_U133A_28L' 'NCI_U133A_72L'\n",
            " 'NCI_U133A_91L' 'CL20041116156AA' 'CL2005060352AA' 'NCI_Lung50_U133A'\n",
            " 'NCI_Lung309_U133' 'Moff2958D' 'NCI_Lung229_U133A' 'NCI_Lung273_U133A'\n",
            " 'Moff1221F' 'NCI_Lung285_U133' 'NCI_Lung236_U133A' 'CL2005060332AA'\n",
            " 'Moff1883G' 'NCI_Lung68_U133A' 'NCI_Lung55_U133A' 'NCI_Lung57_U133A'\n",
            " 'CL2005060354AA' 'NCI_Lung83_U133A' 'Moff0480I' 'NCI_Lung297_U133'\n",
            " 'NCI_Lung214_U133A' 'NCI_U133A_48L' 'NCI_Lung282_U133' 'NCI_Lung35_U133A'\n",
            " 'NCI_Lung37_U133A' 'Moff2366C' 'CL2005060348AA' 'NCI_Lung6_U133A'\n",
            " 'NCI_U133A_50L' 'NCI_Lung275_U133A' 'NCI_Lung4_U133A' 'Moff2595A'\n",
            " 'Moff0142C' 'NCI_U133A_44L' 'NCI_Lung295_U133' 'NCI_Lung318_U133A'\n",
            " 'Moff4094F' 'CL2005060358AA' 'NCI_Lung31_U133A' 'Moff4172B'\n",
            " 'NCI_Lung205_U133A' 'NCI_U133A_57L' 'NCI_U133A_103L' 'CL2005060329AA'\n",
            " 'NCI_Lung278_U133A' 'CL20041119179AA' 'NCI_Lung63_U133A'\n",
            " 'NCI_Lung12_U133A' 'NCI_U133A_43L' 'NCI_Lung51_U133A' 'NCI_Lung321_U133A'\n",
            " 'Moff2296D' 'Moff0604H' 'NCI_Lung234_U133A' 'NCI_Lung10_U133A'\n",
            " 'CL2004111033AA' 'CL2005060351AA' 'Moff0542F' 'CL20041119180AA'\n",
            " 'Moff2470G' 'CL20041110100AA' 'CL20041116113AA' 'NCI_U133A_82L'\n",
            " 'CL2004111003AA' 'NCI_U133A_61L' 'CL20041119186AA' 'Moff0686G'\n",
            " 'NCI_Lung30_U133A' 'NCI_Lung73_U133A' 'Moff0404A' 'NCI_Lung221_U133A'\n",
            " 'NCI_U133A_96L' 'NCI_U133A_75L' 'NCI_Lung58_U133A' 'NCI_Lung313_U133'\n",
            " 'NCI_Lung1_U133A' 'NCI_Lung38_U133A' 'NCI_Lung230_U133A'\n",
            " 'CL20041119175AA' 'CL2004111046AA' 'NCI_U133A_79L' 'NCI_Lung277_U133A'\n",
            " 'NCI_Lung71_U133A' 'Moff0170D' 'Moff2463A' 'CL2004111042AA' 'Moff0516E'\n",
            " 'Moff1734M']\n",
            "\n",
            "\n",
            "BlindedIDs\n",
            "\n",
            "\n",
            "['None4TestSets' '252020' '148178' '712593' '940717' '942053' '106215'\n",
            " '824464' '383339' '524193' '285899' '474137' '707539' '720074' '747041'\n",
            " '568752' '153791' '193820' '391232' '185234' '125786' '455846' '489693'\n",
            " '888397' '448123' '943565' '675746' '226787' '559504' '678515' '687055'\n",
            " '569800' '466286' '404793' '595143' '951138' '233644' '644307' '913626'\n",
            " '728260' '456606' '168962' '943098' '144058' '452459' '232490' '106831'\n",
            " '323875' '316985' '836317' '123673' '201791' '510932' '850333' '414965'\n",
            " '768123' '613415' '222148' '632516' '567176' '800868' '177138' '663986'\n",
            " '662699' '265738' '599309' '291570' '932215' '512292' '624292' '216432'\n",
            " '701581' '627727' '150128' '999364' '941480' '278098' '856475' '684308'\n",
            " '476148' '730255' '949065' '442070' '398109' '110567' '720794' '130882'\n",
            " '112527' '714441' '925629' '376123' '170897' '202710' '496607' '183391'\n",
            " '665227' '618295' '542450' '522090' '525810' '352567' '189573' '816895'\n",
            " '950812' '333004' '903414' '618265' '769668' '871677' '555993' '537180'\n",
            " '517541' '144587' '759490' '913728' '659306' '441465' '411207' '457685'\n",
            " '814773' '173905' '683907' '579761' '826771' '704322' '145764' '956943'\n",
            " '655329' '793551' '255153' '445613' '139107' '474142' '763623' '463273'\n",
            " '424579' '810832' '223314' '366281' '430943' '733074' '391371' '238604'\n",
            " '209144' '933667' '936089' '186573' '702722' '251789' '914179' '907052'\n",
            " '271063' '792784' '450566' '403432' '980608' '901304' '842714' '824309'\n",
            " '524145' '458398' '341749' '812142' '859039' '697490' '458369' '596271'\n",
            " '334341' '165242' '496854' '944357' '432758' '952867' '950017' '659223'\n",
            " '229977' '799354' '337738' '733168' '419309' '602007' '638118' '414808'\n",
            " '693336' '360794' '263320' '772404' '281485' '631005' '721388' '718672'\n",
            " '509008' '845868' '704524' '897384' '493037' '450320' '747262' '518640'\n",
            " '978734' '284987' '510311' '798369' '878703' '819465' '495197' '425795'\n",
            " '517608' '600210' '626325' '211233' '448068' '885163' '907554' '670954'\n",
            " '161979' '163436' '418227' '221190' '744956' '402191' '440283' '696540'\n",
            " '993179' '661131' '569229' '996308' '651553' '306267' '321219' '443769'\n",
            " '182934' '370811' '192850' '172712' '953746' '781068' '608583' '584736'\n",
            " '360466' '159395' '247671' '731954' '942581' '323092' '922659' '829361'\n",
            " '880814' '888981' '668131' '977057' '265064' '826326' '701182' '249311'\n",
            " '161179' '894965']\n",
            "\n",
            "\n",
            "DC_STUDY_ID\n",
            "\n",
            "\n",
            "['B-NCI_U133A_93L.CHP' 'B-NCI_U133A_70L.CHP' 'B-NCI_U133A_87L.CHP'\n",
            " 'B-NCI_U133A_64L.CHP' 'B-NCI_U133A_99L.CHP' 'D257' 'A270' 'C1864H' 'A75'\n",
            " 'A23' 'C0928E1' 'A91' 'D111' 'B-NCI_U133A_23L.CHP' 'B-NCI_U133A_25L.CHP'\n",
            " 'B-NCI_U133A_26L.CHP' 'B-NCI_U133A_38L.CHP' 'B-NCI_U133A_68L.CHP'\n",
            " 'B-NCI_U133A_32L.CHP' 'B-NCI_U133A_31L.CHP' 'A44' 'B-NCI_U133A_10L.CHP'\n",
            " 'A99' 'D259' 'A247' 'A203' 'A19' 'A208' 'C1487F' 'D114' 'A259' 'C3730B'\n",
            " 'C2603I' 'C2333J' 'C2690H' 'A14' 'C3401F' 'A65' 'B-NCI_U133A_46L.CHP'\n",
            " 'B-NCI_U133A_9L.CHP' 'C3053B' 'C978B' 'C4112G' 'B-NCI_U133A_52L.CHP'\n",
            " 'C0711B' 'C1835I1' 'D099' 'A80' 'C1576F' 'C2955B' 'A281' 'D129' 'A296'\n",
            " 'A46' 'B-NCI_U133A_8L.CHP' 'A212' 'A67' 'A16' 'A85' 'A20' 'D182' 'D095'\n",
            " 'A207' 'C291A' 'A272' 'D135' 'D143' 'A96' 'B-NCI_U133A_27L.CHP'\n",
            " 'B-NCI_U133A_59L.CHP' 'A239' 'A289' 'A93' 'A263' 'A49'\n",
            " 'B-NCI_U133A_41L.CHP' 'B-NCI_U133A_3L.CHP' 'A61' 'B-NCI_U133A_98L.CHP'\n",
            " 'D050' 'C2310K' 'B-NCI_U133A_2L.CHP' 'C2072G' 'D102'\n",
            " 'B-NCI_U133A_100L.CH' 'B-NCI_U133A_55L.CHP' 'C2886F' 'A298' 'D172' 'D180'\n",
            " 'C2325E' 'D200' 'A269' 'A77' 'A53' 'A201' 'B-NCI_U133A_77L.CHP' 'D131'\n",
            " 'A82' 'D123' 'B-NCI_U133A_63L.CHP' 'B-NCI_U133A_80L.CHP' 'A283' 'A33'\n",
            " 'A249' 'A294' 'D211' 'A26' 'D270' 'A237' 'C1473F' 'A312'\n",
            " 'B-NCI_U133A_58L.CHP' 'A22' 'C2362A' 'A59' 'A100' 'C3298E' 'C1300F' 'A69'\n",
            " 'A18' 'A202' 'B-NCI_U133A_40L.CHP' 'A246' 'B-NCI_U133A_54L.CHP' 'A209'\n",
            " 'A314' 'D149' 'C2517G1' 'A310' 'A228' 'D209' 'D181' 'D201' 'D036' 'D118'\n",
            " 'D171' 'A98' 'A45' 'D136' 'D121' 'A47' 'B-NCI_U133A_20L.CHP'\n",
            " 'B-NCI_U133A_107L.CH' 'B-NCI_U133A_15L.CHP' 'B-NCI_U133A_16L.CHP'\n",
            " 'B-NCI_U133A_13L.CHP' 'A215' 'B-NCI_U133A_34L.CHP' 'A15' 'D164' 'C2497D'\n",
            " 'C3009D' 'A267' 'D124' 'B-NCI_U133A_76L.CHP' 'B-NCI_U133A_95L.CHP'\n",
            " 'C1817G1' 'C2472B' 'A72' 'B-NCI_U133A_62L.CHP' 'B-NCI_U133A_81L.CHP'\n",
            " 'D272' 'D130' 'A79' 'D183' 'A28' 'A231' 'A3' 'A97' 'B-NCI_U133A_92L.CHP'\n",
            " 'A17' 'B-NCI_U133A_71L.CHP' 'A21' 'C1400H' 'D173' 'D024B' 'A206'\n",
            " 'B-NCI_U133A_86L.CHP' 'B-NCI_U133A_65L.CHP' 'C2658C' 'C2629F' 'C3510G'\n",
            " 'B-NCI_U133A_102L.CH' 'B-NCI_U133A_39L.CHP' 'A95' 'D148'\n",
            " 'B-NCI_U133A_69L.CHP' 'B-NCI_U133A_47L.CHP' 'C1477G' 'B-NCI_U133A_1L.CHP'\n",
            " 'A235' 'D098' 'D106' 'A306' 'A300' 'A293' 'A48' 'B-NCI_U133A_53L.CHP'\n",
            " 'C2401B' 'D030' 'D260' 'C1903E1' 'C1343G' 'A307' 'B-NCI_U133A_17L.CHP'\n",
            " 'D104' 'C2199G' 'A304' 'A291' 'A305' 'D120' 'C3274K' 'D255' 'A70' 'A34'\n",
            " 'A219' 'B-NCI_U133A_56L.CHP' 'A271' 'B-NCI_U133A_42L.CHP'\n",
            " 'B-NCI_U133A_29L.CHP' 'A86' 'A311' 'C0683H' 'A7' 'A222'\n",
            " 'B-NCI_U133A_97L.CHP' 'D026' 'A299' 'B-NCI_U133A_106L.CH' 'A280' 'A64'\n",
            " 'A54' 'D262' 'A62' 'C2352G' 'A40' 'A32' 'A90' 'C1276H' 'C2663F'\n",
            " 'B-NCI_U133A_7L.CHP' 'C1940G' 'D184' 'D254' 'B-NCI_U133A_5L.CHP' 'D097'\n",
            " 'B-NCI_U133A_18L.CHP' 'B-NCI_U133A_83L.CHP' 'C3003G'\n",
            " 'B-NCI_U133A_60L.CHP' 'C4217B' 'A258' 'B-NCI_U133A_74L.CHP'\n",
            " 'B-NCI_U133A_94L_Rep' 'D128' 'C0770K' 'C0936G1' 'A319' 'A52' 'A81'\n",
            " 'B-NCI_U133A_33L.CHP' 'B-NCI_U133A_35L.CHP' 'B-NCI_U133A_14L.CHP' 'A74'\n",
            " 'A288' 'D186' 'A25' 'B-NCI_U133A_78L.CHP' 'B-NCI_U133A_22L.CHP'\n",
            " 'B-NCI_U133A_21L.CHP' 'C1514K' 'A56' 'D091' 'A39' 'D126' 'D117' 'A274'\n",
            " 'A13' 'B-NCI_U133A_88L.CHP' 'D250' 'A8' 'C3191I' 'C0130D' 'D094' 'A89'\n",
            " 'A76' 'A204' 'B-NCI_U133A_19L.CHP' 'B-NCI_U133A_101L.CH' 'A210' 'C2219F'\n",
            " 'A92' 'A36' 'D179' 'C2634G' 'A320' 'B-NCI_U133A_67L.CHP'\n",
            " 'B-NCI_U133A_84L.CHP' 'A268' 'D105' 'A5' 'A11' 'A27' 'C0184A'\n",
            " 'B-NCI_U133A_73L.CHP' 'B-NCI_U133A_90L.CHP' 'A290' 'A60' 'A238' 'A66'\n",
            " 'C2550F' 'D151' 'B-NCI_U133A_49L.CHP' 'C2186B' 'D037' 'A41' 'A43' 'A220'\n",
            " 'A84' 'B-NCI_U133A_51L.CHP' 'D165' 'A213' 'A276' 'A292' 'C298B' 'D266'\n",
            " 'B-NCI_U133A_45L.CHP' 'B-NCI_U133A_4L.CHP' 'C2996G' 'A227' 'D166' 'A286'\n",
            " 'B-NCI_U133A_89L.CHP' 'B-NCI_U133A_12L.CHP' 'B-NCI_U133A_11L.CHP'\n",
            " 'B-NCI_U133A_30L.CHP' 'B-NCI_U133A_24L.CHP' 'B-NCI_U133A_37L_Rep' 'A224'\n",
            " 'C1888E1' 'A218' 'C2373H' 'A29' 'A78' 'A42' 'D269' 'B-NCI_U133A_6L.CHP'\n",
            " 'A240' 'B-NCI_U133A_66L.CHP' 'B-NCI_U133A_85L.CHP' 'D008'\n",
            " 'B-NCI_U133A_28L.CHP' 'B-NCI_U133A_72L.CHP' 'B-NCI_U133A_91L.CHP' 'D236'\n",
            " 'D141' 'A50' 'A309' 'C2958D' 'A229' 'A273' 'C1221F' 'A285' 'A236' 'D110'\n",
            " 'C1883G' 'A68' 'A55' 'A57' 'D147' 'A83' 'C0480I' 'A297' 'A214'\n",
            " 'B-NCI_U133A_48L.CHP' 'A282' 'A35' 'A37' 'C2366C' 'D134' 'A6'\n",
            " 'B-NCI_U133A_50L.CHP' 'A275' 'A4' 'C2595A' 'C142C' 'B-NCI_U133A_44L.CHP'\n",
            " 'A295' 'A318' 'C4094F' 'D153' 'A31' 'C4172B' 'A205' 'B-NCI_U133A_57L.CHP'\n",
            " 'B-NCI_U133A_103L.CH' 'D107' 'A278' 'D252' 'A63' 'A12'\n",
            " 'B-NCI_U133A_43L.CHP' 'A51' 'A321' 'C2296D' 'C0604H' 'A234' 'A10' 'D070B'\n",
            " 'D138' 'C542F' 'D253' 'C2470G' 'D169' 'D185' 'B-NCI_U133A_82L.CHP'\n",
            " 'D009B' 'B-NCI_U133A_61L.CHP' 'D261' 'C0686G' 'A30' 'A73' 'C0404A' 'A221'\n",
            " 'B-NCI_U133A_96L.CHP' 'B-NCI_U133A_75L.CHP' 'A58' 'A313' 'A1' 'A38'\n",
            " 'A230' 'D060B' 'D100' 'B-NCI_U133A_79L.CHP' 'A277' 'A71' 'C170D' 'C2463A'\n",
            " 'D096' 'C0516E' 'C1734M']\n",
            "\n",
            "\n",
            "SITE\n",
            "\n",
            "\n",
            "['MSKCC' 'DFCI' 'MI' 'HLM']\n",
            "\n",
            "\n",
            "TESTTYPE\n",
            "\n",
            "\n",
            "['Test 1' 'Test 2' 'Train']\n",
            "\n",
            "\n",
            "GENDER\n",
            "\n",
            "\n",
            "['Female' 'Male']\n",
            "\n",
            "\n",
            "RACE\n",
            "\n",
            "\n",
            "['White(01)' 'Not Reported(98)' 'Unknown(99)' 'Asian(05)'\n",
            " 'Black or African American(03)'\n",
            " 'Native Hawaiian or Other Pacific Islander(04)']\n",
            "\n",
            "\n",
            "ADJUVANT_CHEMO\n",
            "\n",
            "\n",
            "['No' 'Yes' 'Unknown']\n",
            "\n",
            "\n",
            "ADJUVANT_RT\n",
            "\n",
            "\n",
            "['No' 'Yes' 'Unknown']\n",
            "\n",
            "\n",
            "VITAL_STATUS\n",
            "\n",
            "\n",
            "['Alive' 'Dead']\n",
            "\n",
            "\n",
            "FIRST_PROGRESSION_OR_RELAPSE\n",
            "\n",
            "\n",
            "['No' 'Yes' nan 'Unknown']\n",
            "\n",
            "\n",
            "SMOKING_HISTORY\n",
            "\n",
            "\n",
            "['Never smoked' 'Currently smoking' 'Smoked in the past' 'Unknown' nan]\n",
            "\n",
            "\n",
            "SURGICAL_MARGINS\n",
            "\n",
            "\n",
            "['ALL MARGINS PATHOLOGICALLY NEGATIVE' nan\n",
            " 'MICROSCOPICALLY POSITIVE MARGINS OR MICROSCOPIC RESIDUAL DISEASE']\n",
            "\n",
            "\n",
            "PATHOLOGIC_N_STAGE\n",
            "\n",
            "\n",
            "['N0, ACCORDING TO AJCC CRITERIA' 'N1, ACCORDING TO AJCC CRITERIA'\n",
            " 'N2, ACCORDING TO AJCC CRITERIA' nan 'NX, ACCORDING TO AJCC CRITERIA']\n",
            "\n",
            "\n",
            "PATHOLOGIC_T_STAGE\n",
            "\n",
            "\n",
            "['T2, ACCORDING TO AJCC CRITERIA' 'T1, ACCORDING TO AJCC CRITERIA'\n",
            " 'T3, ACCORDING TO AJCC CRITERIA' nan 'T4, ACCORDING TO AJCC CRITERIA']\n",
            "\n",
            "\n",
            "WARNING\n",
            "\n",
            "\n",
            "[nan '*']\n",
            "\n",
            "\n",
            "Histologic grade\n",
            "\n",
            "\n",
            "['Moderate Differentiation' 'POORLY DIFFERENTIATED' 'WELL DIFFERENTIATED'\n",
            " nan]\n",
            "\n",
            "\n"
          ]
        }
      ]
    },
    {
      "cell_type": "code",
      "source": [
        "lc_df.isna().any()"
      ],
      "metadata": {
        "colab": {
          "base_uri": "https://localhost:8080/"
        },
        "id": "KbyKOjYOy_46",
        "outputId": "40ea468b-4f4f-4134-df09-088f36cfb8fb"
      },
      "execution_count": 7,
      "outputs": [
        {
          "output_type": "execute_result",
          "data": {
            "text/plain": [
              "Unnamed: 0            False\n",
              "1007_s_at             False\n",
              "1053_at               False\n",
              "117_at                False\n",
              "121_at                False\n",
              "                      ...  \n",
              "PCT_SINGLE_OUTLIER    False\n",
              "WARNING                True\n",
              "LABORATORY_BATCH       True\n",
              "Histologic grade       True\n",
              "High_risk             False\n",
              "Length: 22313, dtype: bool"
            ]
          },
          "metadata": {},
          "execution_count": 7
        }
      ]
    },
    {
      "cell_type": "code",
      "source": [
        "## To find the count of null values\n",
        "for i in lc_df.columns:\n",
        "  if lc_df[i].isna().any():\n",
        "    print(i)\n",
        "    print(lc_df[i].isna().sum())"
      ],
      "metadata": {
        "colab": {
          "base_uri": "https://localhost:8080/"
        },
        "id": "13u2SIFZzFuL",
        "outputId": "9c05991b-d3c8-4bc0-913e-1bef9dc6483e"
      },
      "execution_count": 8,
      "outputs": [
        {
          "output_type": "stream",
          "name": "stdout",
          "text": [
            "FIRST_PROGRESSION_OR_RELAPSE\n",
            "70\n",
            "MONTHS_TO_FIRST_PROGRESSION\n",
            "264\n",
            "MTHS_TO_LAST_CLINICAL_ASSESSMENT\n",
            "10\n",
            "SMOKING_HISTORY\n",
            "2\n",
            "SURGICAL_MARGINS\n",
            "2\n",
            "PATHOLOGIC_N_STAGE\n",
            "2\n",
            "PATHOLOGIC_T_STAGE\n",
            "2\n",
            "WARNING\n",
            "410\n",
            "LABORATORY_BATCH\n",
            "104\n",
            "Histologic grade\n",
            "7\n"
          ]
        }
      ]
    },
    {
      "cell_type": "code",
      "source": [
        "lc_df.shape"
      ],
      "metadata": {
        "colab": {
          "base_uri": "https://localhost:8080/"
        },
        "id": "WSn1xUnpzIU8",
        "outputId": "c50d010c-241d-41be-aa12-4053b348636c"
      },
      "execution_count": 9,
      "outputs": [
        {
          "output_type": "execute_result",
          "data": {
            "text/plain": [
              "(442, 22313)"
            ]
          },
          "metadata": {},
          "execution_count": 9
        }
      ]
    },
    {
      "cell_type": "code",
      "source": [
        "## Since more than fifty percent of the data are nan values we will delete/drop MONTHS_TO_FIRST_PROGRESSION column\n",
        "lc_df = lc_df.drop(\"MONTHS_TO_FIRST_PROGRESSION\",axis=1)"
      ],
      "metadata": {
        "id": "v1ZXZakrzKxy"
      },
      "execution_count": 10,
      "outputs": []
    },
    {
      "cell_type": "code",
      "source": [
        "lc_df = lc_df[lc_df['MTHS_TO_LAST_CLINICAL_ASSESSMENT'].notna()]\n",
        "lc_df = lc_df[lc_df['SURGICAL_MARGINS'].notna()]\n",
        "lc_df = lc_df[lc_df['PATHOLOGIC_N_STAGE'].notna()]\n",
        "lc_df = lc_df[lc_df['PATHOLOGIC_T_STAGE'].notna()]\n",
        "lc_df = lc_df[lc_df['Histologic grade'].notna()]"
      ],
      "metadata": {
        "id": "K0XgvW3DzOc9"
      },
      "execution_count": 11,
      "outputs": []
    },
    {
      "cell_type": "code",
      "source": [
        "## beacuse this column dtype is object we will fill nan values after labelencoding\n",
        "lc_df['FIRST_PROGRESSION_OR_RELAPSE'].unique()"
      ],
      "metadata": {
        "colab": {
          "base_uri": "https://localhost:8080/"
        },
        "id": "F5b_Li56zShL",
        "outputId": "d69c493b-ecd5-4062-9d5c-49116a38bc6e"
      },
      "execution_count": 12,
      "outputs": [
        {
          "output_type": "execute_result",
          "data": {
            "text/plain": [
              "array(['No', 'Yes', nan, 'Unknown'], dtype=object)"
            ]
          },
          "metadata": {},
          "execution_count": 12
        }
      ]
    },
    {
      "cell_type": "code",
      "source": [
        "lc_df['LABORATORY_BATCH'] = lc_df['LABORATORY_BATCH'].fillna(lc_df['LABORATORY_BATCH'].mean())"
      ],
      "metadata": {
        "id": "MoycnxV5zXi7"
      },
      "execution_count": 13,
      "outputs": []
    },
    {
      "cell_type": "code",
      "source": [
        "from sklearn import preprocessing\n",
        "label_encoding = preprocessing.LabelEncoder()\n",
        "lc_df['BlindedIDs'] = label_encoding.fit_transform(lc_df['BlindedIDs'])\n",
        "lc_df['DC_STUDY_ID'] = label_encoding.fit_transform(lc_df['DC_STUDY_ID'])\n",
        "lc_df['SITE'] = label_encoding.fit_transform(lc_df['SITE'])\n",
        "lc_df['TESTTYPE'] = label_encoding.fit_transform(lc_df['TESTTYPE'])\n",
        "lc_df['GENDER'] = label_encoding.fit_transform(lc_df['GENDER'])\n",
        "lc_df['RACE'] = label_encoding.fit_transform(lc_df['RACE'])\n",
        "lc_df['ADJUVANT_CHEMO'] = label_encoding.fit_transform(lc_df['ADJUVANT_CHEMO'])\n",
        "lc_df['ADJUVANT_RT'] = label_encoding.fit_transform(lc_df['ADJUVANT_RT'])\n",
        "lc_df['VITAL_STATUS'] = label_encoding.fit_transform(lc_df['VITAL_STATUS'])\n",
        "lc_df['FIRST_PROGRESSION_OR_RELAPSE'] = label_encoding.fit_transform(lc_df['FIRST_PROGRESSION_OR_RELAPSE'])\n",
        "lc_df['SMOKING_HISTORY'] = label_encoding.fit_transform(lc_df['SMOKING_HISTORY'])\n",
        "lc_df['SURGICAL_MARGINS'] = label_encoding.fit_transform(lc_df['SURGICAL_MARGINS'])\n",
        "lc_df['PATHOLOGIC_N_STAGE'] = label_encoding.fit_transform(lc_df['PATHOLOGIC_N_STAGE'])\n",
        "lc_df['PATHOLOGIC_T_STAGE'] = label_encoding.fit_transform(lc_df['PATHOLOGIC_T_STAGE'])\n",
        "lc_df['WARNING'] = label_encoding.fit_transform(lc_df['WARNING'])\n",
        "lc_df['Histologic grade'] = label_encoding.fit_transform(lc_df['Histologic grade'])"
      ],
      "metadata": {
        "id": "SQzOEE8IzYSq"
      },
      "execution_count": 14,
      "outputs": []
    },
    {
      "cell_type": "code",
      "source": [
        "lc_df['FIRST_PROGRESSION_OR_RELAPSE'] = lc_df['FIRST_PROGRESSION_OR_RELAPSE'].fillna(lc_df['FIRST_PROGRESSION_OR_RELAPSE'].mean())"
      ],
      "metadata": {
        "id": "dXDV94XTzdgK"
      },
      "execution_count": 15,
      "outputs": []
    },
    {
      "cell_type": "code",
      "source": [
        "lc_df = lc_df.drop(\"Unnamed: 0\",axis=1)"
      ],
      "metadata": {
        "id": "kw31gdJCzgya"
      },
      "execution_count": 16,
      "outputs": []
    },
    {
      "cell_type": "code",
      "source": [
        "lc_df.head()"
      ],
      "metadata": {
        "colab": {
          "base_uri": "https://localhost:8080/",
          "height": 317
        },
        "id": "2WMaFrkezjP6",
        "outputId": "e3e01367-45ae-4ab5-f319-60a38f3a3e50"
      },
      "execution_count": 17,
      "outputs": [
        {
          "output_type": "execute_result",
          "data": {
            "text/plain": [
              "   1007_s_at   1053_at    117_at    121_at  1255_g_at   1294_at   1316_at  \\\n",
              "0  10.937022  6.105887  6.657732  8.543040   4.088473  8.208775  5.248811   \n",
              "1   9.667748  6.203607  7.444259  8.800833   4.460766  7.960886  5.133321   \n",
              "2  10.083438  6.416165  7.145344  8.625512   4.135750  8.499000  5.134877   \n",
              "3  10.394160  6.307711  7.290440  8.761087   4.112526  8.463786  5.476750   \n",
              "4  10.890421  6.307370  6.835464  8.524622   4.200539  7.584603  5.352621   \n",
              "\n",
              "    1320_at  1405_i_at   1431_at  ...  SURGICAL_MARGINS  PATHOLOGIC_N_STAGE  \\\n",
              "0  5.053609   7.042420  4.113564  ...                 0                   0   \n",
              "1  4.940906   7.618997  4.114407  ...                 0                   1   \n",
              "2  4.836854   7.089821  4.171350  ...                 0                   0   \n",
              "3  4.998902   7.725870  4.183584  ...                 0                   0   \n",
              "4  4.941038   5.878343  4.005468  ...                 0                   0   \n",
              "\n",
              "   PATHOLOGIC_T_STAGE  MEDIAN_INTENSITY_UNNORMALIZED  PCT_ARRAY_OUTLIER  \\\n",
              "0                   1                          193.0              2.643   \n",
              "1                   1                          192.0              1.450   \n",
              "2                   0                          192.0              1.634   \n",
              "3                   1                          192.0              2.850   \n",
              "4                   1                          193.0              3.666   \n",
              "\n",
              "   PCT_SINGLE_OUTLIER  WARNING  LABORATORY_BATCH  Histologic grade  High_risk  \n",
              "0               0.148        1         13.009231                 0        1.0  \n",
              "1               0.184        1         13.009231                 1        0.0  \n",
              "2               0.142        1         13.009231                 2        0.0  \n",
              "3               0.350        1         13.009231                 1        0.0  \n",
              "4               0.244        1         13.009231                 1        0.0  \n",
              "\n",
              "[5 rows x 22311 columns]"
            ],
            "text/html": [
              "\n",
              "  <div id=\"df-bc023deb-1fbe-472c-9bd6-89c4530d2b5c\">\n",
              "    <div class=\"colab-df-container\">\n",
              "      <div>\n",
              "<style scoped>\n",
              "    .dataframe tbody tr th:only-of-type {\n",
              "        vertical-align: middle;\n",
              "    }\n",
              "\n",
              "    .dataframe tbody tr th {\n",
              "        vertical-align: top;\n",
              "    }\n",
              "\n",
              "    .dataframe thead th {\n",
              "        text-align: right;\n",
              "    }\n",
              "</style>\n",
              "<table border=\"1\" class=\"dataframe\">\n",
              "  <thead>\n",
              "    <tr style=\"text-align: right;\">\n",
              "      <th></th>\n",
              "      <th>1007_s_at</th>\n",
              "      <th>1053_at</th>\n",
              "      <th>117_at</th>\n",
              "      <th>121_at</th>\n",
              "      <th>1255_g_at</th>\n",
              "      <th>1294_at</th>\n",
              "      <th>1316_at</th>\n",
              "      <th>1320_at</th>\n",
              "      <th>1405_i_at</th>\n",
              "      <th>1431_at</th>\n",
              "      <th>...</th>\n",
              "      <th>SURGICAL_MARGINS</th>\n",
              "      <th>PATHOLOGIC_N_STAGE</th>\n",
              "      <th>PATHOLOGIC_T_STAGE</th>\n",
              "      <th>MEDIAN_INTENSITY_UNNORMALIZED</th>\n",
              "      <th>PCT_ARRAY_OUTLIER</th>\n",
              "      <th>PCT_SINGLE_OUTLIER</th>\n",
              "      <th>WARNING</th>\n",
              "      <th>LABORATORY_BATCH</th>\n",
              "      <th>Histologic grade</th>\n",
              "      <th>High_risk</th>\n",
              "    </tr>\n",
              "  </thead>\n",
              "  <tbody>\n",
              "    <tr>\n",
              "      <th>0</th>\n",
              "      <td>10.937022</td>\n",
              "      <td>6.105887</td>\n",
              "      <td>6.657732</td>\n",
              "      <td>8.543040</td>\n",
              "      <td>4.088473</td>\n",
              "      <td>8.208775</td>\n",
              "      <td>5.248811</td>\n",
              "      <td>5.053609</td>\n",
              "      <td>7.042420</td>\n",
              "      <td>4.113564</td>\n",
              "      <td>...</td>\n",
              "      <td>0</td>\n",
              "      <td>0</td>\n",
              "      <td>1</td>\n",
              "      <td>193.0</td>\n",
              "      <td>2.643</td>\n",
              "      <td>0.148</td>\n",
              "      <td>1</td>\n",
              "      <td>13.009231</td>\n",
              "      <td>0</td>\n",
              "      <td>1.0</td>\n",
              "    </tr>\n",
              "    <tr>\n",
              "      <th>1</th>\n",
              "      <td>9.667748</td>\n",
              "      <td>6.203607</td>\n",
              "      <td>7.444259</td>\n",
              "      <td>8.800833</td>\n",
              "      <td>4.460766</td>\n",
              "      <td>7.960886</td>\n",
              "      <td>5.133321</td>\n",
              "      <td>4.940906</td>\n",
              "      <td>7.618997</td>\n",
              "      <td>4.114407</td>\n",
              "      <td>...</td>\n",
              "      <td>0</td>\n",
              "      <td>1</td>\n",
              "      <td>1</td>\n",
              "      <td>192.0</td>\n",
              "      <td>1.450</td>\n",
              "      <td>0.184</td>\n",
              "      <td>1</td>\n",
              "      <td>13.009231</td>\n",
              "      <td>1</td>\n",
              "      <td>0.0</td>\n",
              "    </tr>\n",
              "    <tr>\n",
              "      <th>2</th>\n",
              "      <td>10.083438</td>\n",
              "      <td>6.416165</td>\n",
              "      <td>7.145344</td>\n",
              "      <td>8.625512</td>\n",
              "      <td>4.135750</td>\n",
              "      <td>8.499000</td>\n",
              "      <td>5.134877</td>\n",
              "      <td>4.836854</td>\n",
              "      <td>7.089821</td>\n",
              "      <td>4.171350</td>\n",
              "      <td>...</td>\n",
              "      <td>0</td>\n",
              "      <td>0</td>\n",
              "      <td>0</td>\n",
              "      <td>192.0</td>\n",
              "      <td>1.634</td>\n",
              "      <td>0.142</td>\n",
              "      <td>1</td>\n",
              "      <td>13.009231</td>\n",
              "      <td>2</td>\n",
              "      <td>0.0</td>\n",
              "    </tr>\n",
              "    <tr>\n",
              "      <th>3</th>\n",
              "      <td>10.394160</td>\n",
              "      <td>6.307711</td>\n",
              "      <td>7.290440</td>\n",
              "      <td>8.761087</td>\n",
              "      <td>4.112526</td>\n",
              "      <td>8.463786</td>\n",
              "      <td>5.476750</td>\n",
              "      <td>4.998902</td>\n",
              "      <td>7.725870</td>\n",
              "      <td>4.183584</td>\n",
              "      <td>...</td>\n",
              "      <td>0</td>\n",
              "      <td>0</td>\n",
              "      <td>1</td>\n",
              "      <td>192.0</td>\n",
              "      <td>2.850</td>\n",
              "      <td>0.350</td>\n",
              "      <td>1</td>\n",
              "      <td>13.009231</td>\n",
              "      <td>1</td>\n",
              "      <td>0.0</td>\n",
              "    </tr>\n",
              "    <tr>\n",
              "      <th>4</th>\n",
              "      <td>10.890421</td>\n",
              "      <td>6.307370</td>\n",
              "      <td>6.835464</td>\n",
              "      <td>8.524622</td>\n",
              "      <td>4.200539</td>\n",
              "      <td>7.584603</td>\n",
              "      <td>5.352621</td>\n",
              "      <td>4.941038</td>\n",
              "      <td>5.878343</td>\n",
              "      <td>4.005468</td>\n",
              "      <td>...</td>\n",
              "      <td>0</td>\n",
              "      <td>0</td>\n",
              "      <td>1</td>\n",
              "      <td>193.0</td>\n",
              "      <td>3.666</td>\n",
              "      <td>0.244</td>\n",
              "      <td>1</td>\n",
              "      <td>13.009231</td>\n",
              "      <td>1</td>\n",
              "      <td>0.0</td>\n",
              "    </tr>\n",
              "  </tbody>\n",
              "</table>\n",
              "<p>5 rows × 22311 columns</p>\n",
              "</div>\n",
              "      <button class=\"colab-df-convert\" onclick=\"convertToInteractive('df-bc023deb-1fbe-472c-9bd6-89c4530d2b5c')\"\n",
              "              title=\"Convert this dataframe to an interactive table.\"\n",
              "              style=\"display:none;\">\n",
              "        \n",
              "  <svg xmlns=\"http://www.w3.org/2000/svg\" height=\"24px\"viewBox=\"0 0 24 24\"\n",
              "       width=\"24px\">\n",
              "    <path d=\"M0 0h24v24H0V0z\" fill=\"none\"/>\n",
              "    <path d=\"M18.56 5.44l.94 2.06.94-2.06 2.06-.94-2.06-.94-.94-2.06-.94 2.06-2.06.94zm-11 1L8.5 8.5l.94-2.06 2.06-.94-2.06-.94L8.5 2.5l-.94 2.06-2.06.94zm10 10l.94 2.06.94-2.06 2.06-.94-2.06-.94-.94-2.06-.94 2.06-2.06.94z\"/><path d=\"M17.41 7.96l-1.37-1.37c-.4-.4-.92-.59-1.43-.59-.52 0-1.04.2-1.43.59L10.3 9.45l-7.72 7.72c-.78.78-.78 2.05 0 2.83L4 21.41c.39.39.9.59 1.41.59.51 0 1.02-.2 1.41-.59l7.78-7.78 2.81-2.81c.8-.78.8-2.07 0-2.86zM5.41 20L4 18.59l7.72-7.72 1.47 1.35L5.41 20z\"/>\n",
              "  </svg>\n",
              "      </button>\n",
              "      \n",
              "  <style>\n",
              "    .colab-df-container {\n",
              "      display:flex;\n",
              "      flex-wrap:wrap;\n",
              "      gap: 12px;\n",
              "    }\n",
              "\n",
              "    .colab-df-convert {\n",
              "      background-color: #E8F0FE;\n",
              "      border: none;\n",
              "      border-radius: 50%;\n",
              "      cursor: pointer;\n",
              "      display: none;\n",
              "      fill: #1967D2;\n",
              "      height: 32px;\n",
              "      padding: 0 0 0 0;\n",
              "      width: 32px;\n",
              "    }\n",
              "\n",
              "    .colab-df-convert:hover {\n",
              "      background-color: #E2EBFA;\n",
              "      box-shadow: 0px 1px 2px rgba(60, 64, 67, 0.3), 0px 1px 3px 1px rgba(60, 64, 67, 0.15);\n",
              "      fill: #174EA6;\n",
              "    }\n",
              "\n",
              "    [theme=dark] .colab-df-convert {\n",
              "      background-color: #3B4455;\n",
              "      fill: #D2E3FC;\n",
              "    }\n",
              "\n",
              "    [theme=dark] .colab-df-convert:hover {\n",
              "      background-color: #434B5C;\n",
              "      box-shadow: 0px 1px 3px 1px rgba(0, 0, 0, 0.15);\n",
              "      filter: drop-shadow(0px 1px 2px rgba(0, 0, 0, 0.3));\n",
              "      fill: #FFFFFF;\n",
              "    }\n",
              "  </style>\n",
              "\n",
              "      <script>\n",
              "        const buttonEl =\n",
              "          document.querySelector('#df-bc023deb-1fbe-472c-9bd6-89c4530d2b5c button.colab-df-convert');\n",
              "        buttonEl.style.display =\n",
              "          google.colab.kernel.accessAllowed ? 'block' : 'none';\n",
              "\n",
              "        async function convertToInteractive(key) {\n",
              "          const element = document.querySelector('#df-bc023deb-1fbe-472c-9bd6-89c4530d2b5c');\n",
              "          const dataTable =\n",
              "            await google.colab.kernel.invokeFunction('convertToInteractive',\n",
              "                                                     [key], {});\n",
              "          if (!dataTable) return;\n",
              "\n",
              "          const docLinkHtml = 'Like what you see? Visit the ' +\n",
              "            '<a target=\"_blank\" href=https://colab.research.google.com/notebooks/data_table.ipynb>data table notebook</a>'\n",
              "            + ' to learn more about interactive tables.';\n",
              "          element.innerHTML = '';\n",
              "          dataTable['output_type'] = 'display_data';\n",
              "          await google.colab.output.renderOutput(dataTable, element);\n",
              "          const docLink = document.createElement('div');\n",
              "          docLink.innerHTML = docLinkHtml;\n",
              "          element.appendChild(docLink);\n",
              "        }\n",
              "      </script>\n",
              "    </div>\n",
              "  </div>\n",
              "  "
            ]
          },
          "metadata": {},
          "execution_count": 17
        }
      ]
    },
    {
      "cell_type": "code",
      "source": [
        "X = lc_df.drop(\"High_risk\",axis=1)\n",
        "y = lc_df['High_risk']"
      ],
      "metadata": {
        "id": "E-aV894dzj4M"
      },
      "execution_count": 18,
      "outputs": []
    },
    {
      "cell_type": "code",
      "source": [
        "from sklearn.model_selection import train_test_split\n",
        "X_train,X_test,y_train,y_test = train_test_split(X,y,test_size=0.3,random_state=0)\n",
        "X_train.shape,X_test.shape"
      ],
      "metadata": {
        "colab": {
          "base_uri": "https://localhost:8080/"
        },
        "id": "UrKaw7PRzlyG",
        "outputId": "bb20234c-0295-4c4e-aa63-6c20fc1d23d0"
      },
      "execution_count": 19,
      "outputs": [
        {
          "output_type": "execute_result",
          "data": {
            "text/plain": [
              "((297, 22310), (128, 22310))"
            ]
          },
          "metadata": {},
          "execution_count": 19
        }
      ]
    },
    {
      "cell_type": "code",
      "source": [
        "from sklearn.feature_selection import chi2\n",
        "f_p_values = chi2(X_train,y_train)"
      ],
      "metadata": {
        "id": "BA1VzvIMz-7y"
      },
      "execution_count": 20,
      "outputs": []
    },
    {
      "cell_type": "code",
      "source": [
        "f_p_values"
      ],
      "metadata": {
        "colab": {
          "base_uri": "https://localhost:8080/"
        },
        "id": "zBZe_xlx0TMc",
        "outputId": "ec139991-9e19-41da-cae0-fe53c42bfcb3"
      },
      "execution_count": 21,
      "outputs": [
        {
          "output_type": "execute_result",
          "data": {
            "text/plain": [
              "(array([3.26464191e-02, 1.16618270e-01, 1.45997617e-05, ...,\n",
              "        5.52105009e-03, 1.00791729e+00, 1.05351596e-01]),\n",
              " array([0.85661625, 0.73273159, 0.99695132, ..., 0.94076868, 0.31540231,\n",
              "        0.74549964]))"
            ]
          },
          "metadata": {},
          "execution_count": 21
        }
      ]
    },
    {
      "cell_type": "code",
      "source": [
        "import pandas as pd\n",
        "p_values=pd.Series(f_p_values[1])\n",
        "p_values.index=X_train.columns\n",
        "p_values"
      ],
      "metadata": {
        "colab": {
          "base_uri": "https://localhost:8080/"
        },
        "id": "aK0TA2I80Wq-",
        "outputId": "a136efcb-f5ee-401a-d32e-1d98fa64eae5"
      },
      "execution_count": 22,
      "outputs": [
        {
          "output_type": "execute_result",
          "data": {
            "text/plain": [
              "1007_s_at             0.856616\n",
              "1053_at               0.732732\n",
              "117_at                0.996951\n",
              "121_at                0.955064\n",
              "1255_g_at             0.757135\n",
              "                        ...   \n",
              "PCT_ARRAY_OUTLIER     0.280157\n",
              "PCT_SINGLE_OUTLIER    0.656321\n",
              "WARNING               0.940769\n",
              "LABORATORY_BATCH      0.315402\n",
              "Histologic grade      0.745500\n",
              "Length: 22310, dtype: float64"
            ]
          },
          "metadata": {},
          "execution_count": 22
        }
      ]
    },
    {
      "cell_type": "code",
      "source": [
        "p_values.sort_index(ascending=False)"
      ],
      "metadata": {
        "colab": {
          "base_uri": "https://localhost:8080/"
        },
        "id": "GvNn30Bk0l-V",
        "outputId": "3cc1ec4c-c61c-4fb8-a117-f2682002f3f2"
      },
      "execution_count": 23,
      "outputs": [
        {
          "output_type": "execute_result",
          "data": {
            "text/plain": [
              "target          1.072575e-41\n",
              "WARNING         9.407687e-01\n",
              "VITAL_STATUS    7.424445e-09\n",
              "TESTTYPE        6.586391e-01\n",
              "Stratagene               NaN\n",
              "                    ...     \n",
              "1255_g_at       7.571350e-01\n",
              "121_at          9.550642e-01\n",
              "117_at          9.969513e-01\n",
              "1053_at         7.327316e-01\n",
              "1007_s_at       8.566162e-01\n",
              "Length: 22310, dtype: float64"
            ]
          },
          "metadata": {},
          "execution_count": 23
        }
      ]
    },
    {
      "cell_type": "markdown",
      "source": [
        "### **Observation**\n",
        "\n",
        "Target, WARNING, VITAL_STATUS, TESTTYPE are the top 4 important columns in this data set."
      ],
      "metadata": {
        "id": "zNi31WbS05rb"
      }
    },
    {
      "cell_type": "code",
      "source": [
        ""
      ],
      "metadata": {
        "id": "qDsnkffT1XxW"
      },
      "execution_count": null,
      "outputs": []
    }
  ]
}